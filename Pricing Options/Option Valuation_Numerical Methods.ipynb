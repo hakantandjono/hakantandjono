{
 "cells": [
  {
   "cell_type": "markdown",
   "id": "2f627563",
   "metadata": {},
   "source": [
    "## Import Libraries"
   ]
  },
  {
   "cell_type": "code",
   "execution_count": 1,
   "id": "9a0fe76d",
   "metadata": {
    "tags": []
   },
   "outputs": [],
   "source": [
    "import pandas as pd\n",
    "import numpy as np\n",
    "from scipy import stats\n",
    "import seaborn as sns"
   ]
  },
  {
   "cell_type": "markdown",
   "id": "3c39c024",
   "metadata": {},
   "source": [
    "## Baseline Parameters"
   ]
  },
  {
   "cell_type": "code",
   "execution_count": 2,
   "id": "5ff603f7",
   "metadata": {
    "tags": []
   },
   "outputs": [],
   "source": [
    "S0 = 35\n",
    "sigma = 0.4\n",
    "r = 0.01\n",
    "K = 35\n",
    "q = 0.03\n",
    "T = 1"
   ]
  },
  {
   "cell_type": "markdown",
   "id": "c0b1ff59",
   "metadata": {},
   "source": [
    "## Task 1: Black Scholes"
   ]
  },
  {
   "cell_type": "markdown",
   "id": "eb8228b4",
   "metadata": {},
   "source": [
    "### Black Scholes"
   ]
  },
  {
   "cell_type": "code",
   "execution_count": 3,
   "id": "de11e30b",
   "metadata": {
    "tags": []
   },
   "outputs": [],
   "source": [
    "def black_scholes_call(S0, sigma, r, q, K, T):\n",
    "    d1 = (np.log(S0 / K) + (r - q + sigma ** 2 / 2) * T) / (sigma * np.sqrt(T))\n",
    "    d2 = d1 - sigma * np.sqrt(T)\n",
    "    return S0 * np.exp(-q * T) * stats.norm(0, 1).cdf(d1) - K * np.exp(-r * T) * stats.norm(0, 1).cdf(d2)\n",
    "\n",
    "def black_scholes_put(S0, sigma, r, q, K, T):\n",
    "    d1 = (np.log(S0 / K) + (r - q + sigma ** 2 / 2) * T) / (sigma * np.sqrt(T))\n",
    "    d2 = d1 - sigma * np.sqrt(T)\n",
    "    return K * np.exp(-r * T) * stats.norm(0, 1).cdf(-d2) - S0 * np.exp(-q * T) * stats.norm(0, 1).cdf(-d1)"
   ]
  },
  {
   "cell_type": "code",
   "execution_count": 4,
   "id": "1646b7cc",
   "metadata": {
    "tags": []
   },
   "outputs": [],
   "source": [
    "p = black_scholes_put(S0, sigma, r, q, K, T)"
   ]
  },
  {
   "cell_type": "code",
   "execution_count": 5,
   "id": "83649b24",
   "metadata": {
    "tags": []
   },
   "outputs": [
    {
     "data": {
      "text/plain": [
       "5.788371914985477"
      ]
     },
     "execution_count": 5,
     "metadata": {},
     "output_type": "execute_result"
    }
   ],
   "source": [
    "p"
   ]
  },
  {
   "cell_type": "markdown",
   "id": "2f50a7c0",
   "metadata": {},
   "source": [
    "### Put-Call Parity"
   ]
  },
  {
   "cell_type": "code",
   "execution_count": 6,
   "id": "c611142b",
   "metadata": {
    "tags": []
   },
   "outputs": [],
   "source": [
    "def find_call(S0, r, q, K, T, p):\n",
    "    return p + S0 - K * np.exp((q-r) * T)"
   ]
  },
  {
   "cell_type": "code",
   "execution_count": 7,
   "id": "d640d862",
   "metadata": {
    "tags": []
   },
   "outputs": [],
   "source": [
    "c = find_call(S0, r, q, K, T, p)"
   ]
  },
  {
   "cell_type": "code",
   "execution_count": 8,
   "id": "ec710faa",
   "metadata": {
    "tags": []
   },
   "outputs": [
    {
     "data": {
      "text/plain": [
       "5.081325014049021"
      ]
     },
     "execution_count": 8,
     "metadata": {},
     "output_type": "execute_result"
    }
   ],
   "source": [
    "c"
   ]
  },
  {
   "cell_type": "markdown",
   "id": "3b99735d",
   "metadata": {},
   "source": [
    "## Task 2: Binomial Tree"
   ]
  },
  {
   "cell_type": "code",
   "execution_count": 9,
   "id": "804ccdcc",
   "metadata": {
    "tags": []
   },
   "outputs": [],
   "source": [
    "def binomial_tree_fast(S0, sigma, r, q, K, T, n):\n",
    "    \n",
    "    # precompute constants\n",
    "    dt = T / n\n",
    "    u = np.exp(sigma * np.sqrt(dt))\n",
    "    d = np.exp(-sigma *  np.sqrt(dt))\n",
    "    p = (np.exp((r - q) * dt) - d) / (u - d)\n",
    "    disc = np.exp(-r * dt)\n",
    "\n",
    "    # initialise asset prices at maturity - Time step N\n",
    "    ST = S0 * d ** (np.arange(n, -1, -1)) * u ** (np.arange(0, n + 1, 1))\n",
    "\n",
    "    # initialise option values at maturity\n",
    "    ST = np.maximum(K - ST, np.zeros(n + 1))\n",
    "\n",
    "    # step backwards through tree\n",
    "    for i in np.arange(n, 0, -1):\n",
    "        ST = disc * (p * ST[1:i+1] + (1 - p) * ST[0:i])\n",
    "    return ST[0]"
   ]
  },
  {
   "cell_type": "code",
   "execution_count": 10,
   "id": "16b2e0aa",
   "metadata": {
    "tags": []
   },
   "outputs": [],
   "source": [
    "data = []\n",
    "for i in range(1, 1000):\n",
    "    data.append(binomial_tree_fast(S0, sigma, r, q, K, T, i))"
   ]
  },
  {
   "cell_type": "code",
   "execution_count": 11,
   "id": "7bf4998e",
   "metadata": {
    "tags": []
   },
   "outputs": [
    {
     "data": {
      "text/plain": [
       "Text(0.5, 1.0, 'Binomial Tree Valuation')"
      ]
     },
     "execution_count": 11,
     "metadata": {},
     "output_type": "execute_result"
    },
    {
     "data": {
      "image/png": "[encoded data removed]",
      "text/plain": [
       "<Figure size 640x480 with 1 Axes>"
      ]
     },
     "metadata": {},
     "output_type": "display_data"
    }
   ],
   "source": [
    "ax = sns.lineplot(data, color = 'blue')\n",
    "ax.set(xlabel='Number of Steps', ylabel='Option Value')\n",
    "ax.set_title('Binomial Tree Valuation')"
   ]
  },
  {
   "cell_type": "code",
   "execution_count": 12,
   "id": "de34537f",
   "metadata": {
    "tags": []
   },
   "outputs": [],
   "source": [
    "pd.Series(data).to_csv('binomial_tree.csv')"
   ]
  },
  {
   "cell_type": "markdown",
   "id": "11431d97",
   "metadata": {},
   "source": [
    "## Task 3: Monte Carlo"
   ]
  },
  {
   "cell_type": "markdown",
   "id": "48ac99ff",
   "metadata": {},
   "source": [
    "### 3A: Plain Vanilla Option"
   ]
  },
  {
   "cell_type": "code",
   "execution_count": 13,
   "id": "9c076961",
   "metadata": {
    "tags": []
   },
   "outputs": [],
   "source": [
    "def monte_carlo(S0, sigma, r, q, K, T, n):\n",
    "    dist = stats.qmc.MultivariateNormalQMC(mean = [0], cov = [[1]])\n",
    "    sample = dist.random(n)\n",
    "    output = []\n",
    "    for i in sample:\n",
    "        ST = S0 * np.exp((r - q - sigma ** 2 / 2) * T + sigma * i[0] * np.sqrt(T))\n",
    "        payoff = max(K - ST, 0) * np.exp(-r * T)\n",
    "        output.append(payoff)\n",
    "    return pd.Series(output)"
   ]
  },
  {
   "cell_type": "code",
   "execution_count": 14,
   "id": "e5aeb899",
   "metadata": {
    "tags": []
   },
   "outputs": [
    {
     "name": "stderr",
     "output_type": "stream",
     "text": [
      "C:\\Users\\cece\\anaconda3\\Lib\\site-packages\\scipy\\stats\\_qmc.py:763: UserWarning: The balance properties of Sobol' points require n to be a power of 2.\n",
      "  sample = self._random(n, workers=workers)\n"
     ]
    }
   ],
   "source": [
    "result = monte_carlo(S0, sigma, r, q, K, T, 1000000)"
   ]
  },
  {
   "cell_type": "markdown",
   "id": "461b69c3",
   "metadata": {},
   "source": [
    "Mean Value of the Simulation"
   ]
  },
  {
   "cell_type": "code",
   "execution_count": 15,
   "id": "d27bb0a5",
   "metadata": {
    "scrolled": true,
    "tags": []
   },
   "outputs": [
    {
     "data": {
      "text/plain": [
       "5.788371806919008"
      ]
     },
     "execution_count": 15,
     "metadata": {},
     "output_type": "execute_result"
    }
   ],
   "source": [
    "np.mean(result)"
   ]
  },
  {
   "cell_type": "markdown",
   "id": "06de146d",
   "metadata": {},
   "source": [
    "Standard Error of the Simulation"
   ]
  },
  {
   "cell_type": "code",
   "execution_count": 16,
   "id": "34623f55",
   "metadata": {
    "tags": []
   },
   "outputs": [
    {
     "data": {
      "text/plain": [
       "0.09052950325989385"
      ]
     },
     "execution_count": 16,
     "metadata": {},
     "output_type": "execute_result"
    }
   ],
   "source": [
    "np.std(result) * np.log(1000000) / np.sqrt(1000000)"
   ]
  },
  {
   "cell_type": "markdown",
   "id": "180c3c49",
   "metadata": {},
   "source": [
    "Histogram of the Monte Carlo Simulation"
   ]
  },
  {
   "cell_type": "code",
   "execution_count": 17,
   "id": "0c552507",
   "metadata": {
    "tags": []
   },
   "outputs": [],
   "source": [
    "non_zero_result = []\n",
    "for i in result:\n",
    "    if i > 0:\n",
    "        non_zero_result.append(i)"
   ]
  },
  {
   "cell_type": "code",
   "execution_count": 18,
   "id": "065d963e",
   "metadata": {
    "tags": []
   },
   "outputs": [
    {
     "data": {
      "text/plain": [
       "Text(0.5, 1.0, 'Monte Carlo Simulation Histogram (Excluding 0 Option Value)')"
      ]
     },
     "execution_count": 18,
     "metadata": {},
     "output_type": "execute_result"
    },
    {
     "data": {
      "image/png": "[encoded data removed]",
      "text/plain": [
       "<Figure size 640x480 with 1 Axes>"
      ]
     },
     "metadata": {},
     "output_type": "display_data"
    }
   ],
   "source": [
    "hist = sns.histplot(data = non_zero_result, bins = 50, color = 'skyblue')\n",
    "hist.set(xlabel='Option Value', ylabel='Count')\n",
    "hist.set_title('Monte Carlo Simulation Histogram (Excluding 0 Option Value)')"
   ]
  },
  {
   "cell_type": "markdown",
   "id": "1de9e911",
   "metadata": {},
   "source": [
    "### 3B: Underlying asset and risk-free rate GBM"
   ]
  },
  {
   "cell_type": "code",
   "execution_count": 19,
   "id": "1f10e91e",
   "metadata": {
    "tags": []
   },
   "outputs": [],
   "source": [
    "dist = stats.qmc.MultivariateNormalQMC(mean = [0, r], cov = [[1, 0.1], [0.1, 0.01]])"
   ]
  },
  {
   "cell_type": "code",
   "execution_count": 20,
   "id": "e4b34eb6",
   "metadata": {
    "tags": []
   },
   "outputs": [
    {
     "name": "stderr",
     "output_type": "stream",
     "text": [
      "C:\\Users\\cece\\anaconda3\\Lib\\site-packages\\scipy\\stats\\_qmc.py:763: UserWarning: The balance properties of Sobol' points require n to be a power of 2.\n",
      "  sample = self._random(n, workers=workers)\n"
     ]
    },
    {
     "data": {
      "text/plain": [
       "array([[ 8.61651404e-03,  1.08616514e-02],\n",
       "       [-1.13767019e+00, -1.03767019e-01],\n",
       "       [ 1.28117180e+00,  1.38117180e-01],\n",
       "       [-6.00293331e-01, -5.00293331e-02],\n",
       "       [ 9.98570463e-01,  1.09857046e-01],\n",
       "       [-8.79828949e-02,  1.20171051e-03],\n",
       "       [ 5.08567249e-01,  6.08567249e-02],\n",
       "       [-1.48743963e+00, -1.38743963e-01],\n",
       "       [ 1.55440816e+00,  1.65440816e-01],\n",
       "       [-4.78545252e-01, -3.78545252e-02]])"
      ]
     },
     "execution_count": 20,
     "metadata": {},
     "output_type": "execute_result"
    }
   ],
   "source": [
    "dist.random(10)"
   ]
  },
  {
   "cell_type": "code",
   "execution_count": 21,
   "id": "334ab2a7",
   "metadata": {
    "tags": []
   },
   "outputs": [],
   "source": [
    "def monte_carlo2(S0, sigma, r, q, K, T, n):\n",
    "    dist = stats.qmc.MultivariateNormalQMC(mean = [0, r], cov = [[1, -0.03], [-0.03, 0.01]])\n",
    "    sample = dist.random(n)\n",
    "    output = []\n",
    "    for i in range(n):\n",
    "        ST = S0 * np.exp((sample[i][1] - q - sigma ** 2 / 2) * T + sigma * sample[i][0] * np.sqrt(T))\n",
    "        payoff = max(K - ST, 0) * np.exp(-sample[i][1] * T)\n",
    "        output.append(payoff)\n",
    "    return pd.Series(output)"
   ]
  },
  {
   "cell_type": "code",
   "execution_count": 22,
   "id": "5e4d2508",
   "metadata": {
    "tags": []
   },
   "outputs": [],
   "source": [
    "result2 = monte_carlo2(S0, sigma, r, q, K, T, 1000000)"
   ]
  },
  {
   "cell_type": "code",
   "execution_count": 23,
   "id": "4656dd19",
   "metadata": {
    "tags": []
   },
   "outputs": [
    {
     "data": {
      "text/plain": [
       "0         14.883817\n",
       "1          0.000000\n",
       "2          4.040152\n",
       "3          4.331793\n",
       "4          9.154909\n",
       "            ...    \n",
       "999995     7.059150\n",
       "999996    12.245597\n",
       "999997     2.220927\n",
       "999998     0.000000\n",
       "999999     7.203472\n",
       "Length: 1000000, dtype: float64"
      ]
     },
     "execution_count": 23,
     "metadata": {},
     "output_type": "execute_result"
    }
   ],
   "source": [
    "result2"
   ]
  },
  {
   "cell_type": "markdown",
   "id": "0f12092a",
   "metadata": {},
   "source": [
    "Mean Value of the Simulation"
   ]
  },
  {
   "cell_type": "code",
   "execution_count": 24,
   "id": "7c4bd6c8",
   "metadata": {
    "tags": []
   },
   "outputs": [
    {
     "data": {
      "text/plain": [
       "5.6523188609571395"
      ]
     },
     "execution_count": 24,
     "metadata": {},
     "output_type": "execute_result"
    }
   ],
   "source": [
    "np.mean(result2)"
   ]
  },
  {
   "cell_type": "markdown",
   "id": "24e06606",
   "metadata": {},
   "source": [
    "Standard Error of the Simulation"
   ]
  },
  {
   "cell_type": "code",
   "execution_count": 25,
   "id": "2b960fd6",
   "metadata": {
    "tags": []
   },
   "outputs": [
    {
     "data": {
      "text/plain": [
       "0.08856866130724804"
      ]
     },
     "execution_count": 25,
     "metadata": {},
     "output_type": "execute_result"
    }
   ],
   "source": [
    "np.std(result2) * np.log(1000000) / np.sqrt(1000000)"
   ]
  },
  {
   "cell_type": "markdown",
   "id": "b5630eb8",
   "metadata": {},
   "source": [
    "### 3C: Exotic Option"
   ]
  },
  {
   "cell_type": "code",
   "execution_count": 26,
   "id": "1691802e",
   "metadata": {
    "tags": []
   },
   "outputs": [],
   "source": [
    "def monte_carlo3(S0, sigma, r, q, K, T, n, step):\n",
    "    dist = stats.qmc.MultivariateNormalQMC(mean = [0], cov = [[1]])\n",
    "    dt = T / step\n",
    "    output = []\n",
    "    for i in range(n):\n",
    "        ST = S0\n",
    "        sample = dist.random(step)\n",
    "        is_below_30 = 0\n",
    "        for j in range(step):\n",
    "            ST = ST * np.exp((r - q - sigma ** 2 / 2) * dt + sigma * sample[j][0] * np.sqrt(dt))\n",
    "            if ST < 30:\n",
    "                is_below_30 = 1\n",
    "                break\n",
    "        if is_below_30:\n",
    "            payoff = 0\n",
    "        else:\n",
    "            payoff = max(K - ST, 0) * np.exp(-r * T)\n",
    "        output.append(payoff)\n",
    "    return pd.Series(output)"
   ]
  },
  {
   "cell_type": "code",
   "execution_count": 28,
   "id": "cf2caf12",
   "metadata": {
    "tags": []
   },
   "outputs": [],
   "source": [
    "result3 = monte_carlo3(S0, sigma, r, q, K, T, 1000, 10)"
   ]
  },
  {
   "cell_type": "code",
   "execution_count": 29,
   "id": "37612120",
   "metadata": {
    "tags": []
   },
   "outputs": [
    {
     "data": {
      "text/plain": [
       "0      0.000000\n",
       "1      0.000000\n",
       "2      0.000000\n",
       "3      1.641534\n",
       "4      0.000000\n",
       "         ...   \n",
       "995    1.445818\n",
       "996    0.000000\n",
       "997    0.000000\n",
       "998    0.000000\n",
       "999    0.000000\n",
       "Length: 1000, dtype: float64"
      ]
     },
     "execution_count": 29,
     "metadata": {},
     "output_type": "execute_result"
    }
   ],
   "source": [
    "result3"
   ]
  },
  {
   "cell_type": "markdown",
   "id": "b86eed5e",
   "metadata": {},
   "source": [
    "Mean Value of the Simulation"
   ]
  },
  {
   "cell_type": "code",
   "execution_count": 30,
   "id": "750f181c",
   "metadata": {
    "tags": []
   },
   "outputs": [
    {
     "data": {
      "text/plain": [
       "0.3725224745575451"
      ]
     },
     "execution_count": 30,
     "metadata": {},
     "output_type": "execute_result"
    }
   ],
   "source": [
    "np.mean(result3)"
   ]
  },
  {
   "cell_type": "markdown",
   "id": "c365ef61",
   "metadata": {},
   "source": [
    "Standard Error of the Simulation"
   ]
  },
  {
   "cell_type": "code",
   "execution_count": 32,
   "id": "6f131702",
   "metadata": {
    "tags": []
   },
   "outputs": [
    {
     "data": {
      "text/plain": [
       "1.4313971287245142"
      ]
     },
     "execution_count": 32,
     "metadata": {},
     "output_type": "execute_result"
    }
   ],
   "source": [
    "np.std(result) * np.log(1000) / np.sqrt(1000)"
   ]
  },
  {
   "cell_type": "markdown",
   "id": "a288cf5b",
   "metadata": {},
   "source": [
    "## Task 4: Alternative Stochastic Process"
   ]
  },
  {
   "cell_type": "code",
   "execution_count": 33,
   "id": "46c1abf1",
   "metadata": {
    "tags": []
   },
   "outputs": [
    {
     "name": "stdout",
     "output_type": "stream",
     "text": [
      "Option value:  3.568480018885622\n"
     ]
    }
   ],
   "source": [
    "import numpy as np\n",
    "import matplotlib.pyplot as plt\n",
    "from mpl_toolkits.mplot3d import Axes3D\n",
    "from scipy.stats import norm\n",
    "\n",
    "# Define parameters\n",
    "S0 = 35\n",
    "r = 0.01\n",
    "T = 1\n",
    "kappa = 2  # mean reversion speed\n",
    "theta = 0.4  # long-run variance\n",
    "sigma = 0.4  # implied volatility\n",
    "rho = -0.3  # correlation between the stock price and volatility\n",
    "V0 = sigma**2  # initial variance\n",
    "K = 35  # strike price\n",
    "N = 1000  # number of simulation paths\n",
    "M = 500  # number of time steps\n",
    "dt = T / M  # time step size\n",
    "\n",
    "# Define the function for the Heston model\n",
    "def heston(s0, v0, kappa, theta, sigma, rho, r, T, M, N):\n",
    "    # Initialize arrays\n",
    "    S = np.zeros((M + 1, N))\n",
    "    V = np.zeros((M + 1, N))\n",
    "    S[0, :] = s0\n",
    "    V[0, :] = v0\n",
    "\n",
    "    # Generate correlated Brownian motions\n",
    "    z1 = np.random.normal(size=(M, N))\n",
    "    z2 = rho * z1 + np.sqrt(1 - rho ** 2) * np.random.normal(size=(M, N))\n",
    "\n",
    "    # Generate stock price and volatility paths\n",
    "    for t in range(1, M + 1):\n",
    "        # Calculate the drift and volatility\n",
    "        drift = r * S[t - 1, :]\n",
    "        vol = np.sqrt(V[t - 1, :])\n",
    "\n",
    "        # Update the stock price and volatility\n",
    "        S[t, :] = S[t - 1, :] * np.exp((drift - 0.5 * vol**2) * dt + vol * np.sqrt(dt) * z1[t - 1, :])\n",
    "        V[t, :] = np.maximum(\n",
    "            0.0, V[t - 1, :] + kappa * (theta - V[t - 1, :]) * dt + sigma * np.sqrt(V[t - 1, :]) * np.sqrt(dt) * z2[t - 1, :]\n",
    "        )\n",
    "\n",
    "    # Calculate the option payoff at maturity\n",
    "    payoff = np.maximum(K - S[-1, :], 0)\n",
    "\n",
    "    # Calculate the option value using the LSM method\n",
    "    for t in range(M - 1, 0, -1):\n",
    "        # Calculate the cash flows and exercise values\n",
    "        cash_flows = np.zeros(N)\n",
    "        exercise_values = np.zeros(N)\n",
    "        for i in range(N):\n",
    "            if payoff[i] > 0:\n",
    "                cash_flows[i] = payoff[i] * np.exp(-r * (T - t) / (M - t))\n",
    "                exercise_values[i] = payoff[i]\n",
    "\n",
    "        # Calculate the continuation values\n",
    "        x = np.log(S[t, :] / K)\n",
    "        y = np.sqrt(V[t, :])\n",
    "        X = np.column_stack((np.ones(N), x, x ** 2, x ** 3, x ** 4))\n",
    "        X_inv = np.linalg.inv(np.dot(X.T, X))\n",
    "        beta = np.dot(X_inv, np.dot(X.T, cash_flows))\n",
    "        continuation_values = np.dot(X, beta)\n",
    "\n",
    "        # Determine the optimal exercise policy\n",
    "        early_exercise = exercise_values > continuation_values\n",
    "        payoff[early_exercise] = exercise_values[early_exercise]\n",
    "\n",
    "    # Calculate the option value using Monte Carlo simulation\n",
    "    discount_factor = np.exp(-r * T)\n",
    "    option_value = discount_factor * np.mean(payoff)\n",
    "\n",
    "    return option_value\n",
    "\n",
    "# Value the American-style option using the Heston model and Monte Carlo simulation\n",
    "option_value = heston(S0, V0, kappa, theta, sigma, rho, r, T, M, N)\n",
    "print(\"Option value: \", option_value)\n",
    "\n",
    "# # Generate a 4D graph of the Heston model paths\n",
    "# fig = plt.figure()\n",
    "# ax = fig.add_subplot(111, projection=\"3d\")\n",
    "# ax.set_title(\"Heston Model Paths\")\n",
    "# ax.set_xlabel(\"Time\")\n",
    "# ax.set_ylabel(\"Stock Price\")\n",
    "# ax.set_zlabel(\"Volatility\")\n",
    "# S = np.zeros((M + 1, N))\n",
    "# V = np.zeros((M + 1, N))\n",
    "# S[0, :] = S0\n",
    "# V[0, :] = V0\n",
    "# z1 = np.random.normal(size=(M, N))\n",
    "# z2 = rho * z1 + np.sqrt(1 - rho ** 2) * np.random.normal(size=(M, N))\n",
    "\n",
    "# # Generate stock price and volatility paths\n",
    "# for t in range(1, M + 1):\n",
    "#     # Calculate the drift and volatility\n",
    "#     drift = r * S[t - 1, :]\n",
    "#     vol = np.sqrt(V[t - 1, :])\n",
    "\n",
    "#     # Update the stock price and volatility\n",
    "#     S[t, :] = S[t - 1, :] * np.exp((drift - 0.5 * vol**2) * dt + vol * np.sqrt(dt) * z1[t - 1, :])\n",
    "#     V[t, :] = np.maximum(\n",
    "#         0.0, V[t - 1, :] + kappa * (theta - V[t - 1, :]) * dt + sigma * np.sqrt(V[t - 1, :]) * np.sqrt(dt) * z2[t - 1, :]\n",
    "#     )\n",
    "\n",
    "# for i in range(10):\n",
    "#     ax.plot(np.arange(M + 1), S[:, i], V[:, i])\n",
    "# plt.show()\n",
    "\n",
    "# # Print information about the simulation\n",
    "# print(\"Parameters:\")\n",
    "# print(\"S0 = \", S0)\n",
    "# print(\"r = \", r)\n",
    "# print(\"T = \", T)\n",
    "# print(\"kappa = \", kappa)\n",
    "# print(\"theta = \", theta)\n",
    "# print(\"sigma = \", sigma)\n",
    "# print(\"rho = \", rho)\n",
    "# print(\"V0 = \", V0)\n",
    "# print(\"K = \", K)\n",
    "# print(\"N = \", N)\n",
    "# print(\"M = \", M)\n",
    "# print(\"dt = \", dt)\n",
    "# print(\"Option value: \", option_value)"
   ]
  },
  {
   "cell_type": "markdown",
   "id": "80996f5d",
   "metadata": {},
   "source": [
    "## Task 5: Finite Difference Method"
   ]
  },
  {
   "cell_type": "markdown",
   "id": "a230a539",
   "metadata": {},
   "source": [
    "### Implicit Method"
   ]
  },
  {
   "attachments": {
    "image.png": {
     "image/png": "[encoded data removed]"
    }
   },
   "cell_type": "markdown",
   "id": "81997827",
   "metadata": {},
   "source": [
    "![image.png](attachment:image.png)"
   ]
  },
  {
   "attachments": {
    "image.png": {
     "image/png": "[encoded data removed]"
    }
   },
   "cell_type": "markdown",
   "id": "d470e826",
   "metadata": {},
   "source": [
    "![image.png](attachment:image.png)"
   ]
  },
  {
   "cell_type": "code",
   "execution_count": 34,
   "id": "fb4f1ef7",
   "metadata": {
    "tags": []
   },
   "outputs": [],
   "source": [
    "def finite_diff_implicit(S0, sigma, r, q, K, T, m, n):\n",
    "    \n",
    "    def a(r, q, dt, sigma, n):\n",
    "        return 0.5 * dt * ((r-q)*n - (sigma * n) ** 2) / (1 - r * dt)\n",
    "\n",
    "    def b(r, q, dt, sigma, n):\n",
    "        return 1 + dt * ((sigma * n) ** 2) / (1 - r * dt)\n",
    "\n",
    "    def c(r, q, dt, sigma, n):\n",
    "        return 0.5 * dt * (-(r-q)*n - (sigma * n) ** 2) / (1 - r * dt)\n",
    "    \n",
    "    dt = T / m\n",
    "    dS = 2 * S0 / n\n",
    "    grid = np.zeros((m + 1, n + 1))\n",
    "    S = np.arange(0, 2 * S0 + 0.1, dS)\n",
    "    \n",
    "    # Setting boundaries\n",
    "    for i in range(m + 1):\n",
    "        grid[i, 0] = K\n",
    "    \n",
    "    for j in range(n + 1):\n",
    "        grid[m, j] = max(K - S[j], 0)\n",
    "        \n",
    "#     print(grid)\n",
    "#     print(grid.shape)\n",
    "        \n",
    "    # Matrix A\n",
    "    A = np.zeros((n-1, n-1))\n",
    "    for i in range(n-1):\n",
    "        if i != 0:\n",
    "            A[i, i-1] = a(r, q, dt, sigma, i+1)\n",
    "        elif i != n-1:\n",
    "            A[i, i+1] = c(r, q, dt, sigma, i+1)\n",
    "        A[i, i] = b(r, q, dt, sigma, i+1)\n",
    "#     print(A)\n",
    "#     print(A.shape)\n",
    "    \n",
    "    a0 = a(r, q, dt, sigma, 1)\n",
    "    cn = c(r, q, dt, sigma, n-1)\n",
    "    \n",
    "    for i in range(m-1, -1, -1):\n",
    "        f = grid[i+1, 1:-1]\n",
    "        f[0] = f[0] - (a0 * grid[i, 0])\n",
    "        f[-1] = f[-1] - (cn * grid[i, n])\n",
    "        grid[i, 1:-1] = np.linalg.solve(A, f)\n",
    "#         if i == m-1:\n",
    "#             print(A)\n",
    "#             print(b)\n",
    "#             print(grid[i, :])\n",
    "    if n % 2:\n",
    "        return grid[0, n // 2]\n",
    "    return grid[0, n // 2 - 1]"
   ]
  },
  {
   "cell_type": "code",
   "execution_count": 35,
   "id": "794e3e22",
   "metadata": {
    "tags": []
   },
   "outputs": [
    {
     "data": {
      "text/plain": [
       "8.247424917085313e-07"
      ]
     },
     "execution_count": 35,
     "metadata": {},
     "output_type": "execute_result"
    }
   ],
   "source": [
    "finite_diff_implicit(S0, sigma, r, q, K, T, 500, 64)"
   ]
  },
  {
   "cell_type": "markdown",
   "id": "7baa73b9",
   "metadata": {},
   "source": [
    "### Explicit Method"
   ]
  },
  {
   "cell_type": "code",
   "execution_count": 36,
   "id": "878c3399",
   "metadata": {
    "tags": []
   },
   "outputs": [],
   "source": [
    "def finite_diff_explicit(S0, sigma, r, q, K, T, m, n):\n",
    "    dt = T / m\n",
    "    dS = 2 * S0 / n\n",
    "    grid = np.zeros((m + 1, n + 1))\n",
    "    S = np.arange(0, 2 * S0 + 0.1, dS)\n",
    "    \n",
    "    # Setting boundaries\n",
    "    for i in range(m + 1):\n",
    "        grid[i, 0] = K\n",
    "    \n",
    "    for j in range(n + 1):\n",
    "        grid[m, j] = max(K - S[j], 0)\n",
    "        \n",
    "    for i in range(m-1, -1, -1):\n",
    "        for j in range(1, n):\n",
    "            a = (-0.5 * (r - q) * j * dt + 0.5 * sigma ** 2 * j ** 2 * dt) / (1 + r * dt)\n",
    "            b = (1 - sigma ** 2 * j ** 2 * dt) / (1 + r * dt)\n",
    "            c = (0.5 * (r - q) * j * dt + 0.5 * sigma ** 2 * j ** 2 * dt) / (1 + r * dt)\n",
    "            grid[i, j] = a * grid[i+1, j-1] + b * grid[i+1, j] + c * grid[i+1, j+1]\n",
    "    \n",
    "    if n % 2:\n",
    "        return grid[0, n // 2]\n",
    "    return grid[0, n // 2 - 1]"
   ]
  },
  {
   "cell_type": "code",
   "execution_count": 37,
   "id": "7c2adf2a",
   "metadata": {
    "tags": []
   },
   "outputs": [],
   "source": [
    "test = []\n",
    "for i in range(1, 64):\n",
    "    test.append(finite_diff_explicit(S0, sigma, r, q, K, T, 500, i))"
   ]
  },
  {
   "cell_type": "code",
   "execution_count": 38,
   "id": "53b68ef2",
   "metadata": {
    "tags": []
   },
   "outputs": [
    {
     "data": {
      "text/plain": [
       "Text(0.5, 1.0, 'Explicit Finite Difference (Converged)')"
      ]
     },
     "execution_count": 38,
     "metadata": {},
     "output_type": "execute_result"
    },
    {
     "data": {
      "image/png": "[encoded data removed]",
      "text/plain": [
       "<Figure size 640x480 with 1 Axes>"
      ]
     },
     "metadata": {},
     "output_type": "display_data"
    }
   ],
   "source": [
    "ax = sns.lineplot(test, color = 'blue')\n",
    "ax.set(xlabel = 'Number of Different Stock Prices', ylabel = 'Option Value')\n",
    "ax.set_title('Explicit Finite Difference (Converged)')"
   ]
  },
  {
   "cell_type": "code",
   "execution_count": 39,
   "id": "fa82b60b",
   "metadata": {
    "tags": []
   },
   "outputs": [],
   "source": [
    "test2 = []\n",
    "for i in range(1, 65):\n",
    "    test2.append(finite_diff_explicit(S0, sigma, r, q, K, T, 500, i))"
   ]
  },
  {
   "cell_type": "code",
   "execution_count": 40,
   "id": "d66fb0b1",
   "metadata": {
    "tags": []
   },
   "outputs": [
    {
     "data": {
      "text/plain": [
       "Text(0.5, 1.0, 'Explicit Finite Difference (Not Converged)')"
      ]
     },
     "execution_count": 40,
     "metadata": {},
     "output_type": "execute_result"
    },
    {
     "data": {
      "image/png": "[encoded data removed]",
      "text/plain": [
       "<Figure size 640x480 with 1 Axes>"
      ]
     },
     "metadata": {},
     "output_type": "display_data"
    }
   ],
   "source": [
    "ax = sns.lineplot(test2, color = 'blue')\n",
    "ax.set(xlabel = 'Number of Different Stock Prices', ylabel = 'Option Value')\n",
    "ax.set_title('Explicit Finite Difference (Not Converged)')"
   ]
  },
  {
   "cell_type": "markdown",
   "id": "3e790ae8",
   "metadata": {},
   "source": [
    "## Task 6: Longstaff-Schwartz Least-Squares"
   ]
  },
  {
   "cell_type": "code",
   "execution_count": 41,
   "id": "a80a6a9f",
   "metadata": {
    "tags": []
   },
   "outputs": [],
   "source": [
    "def longstaff_schwartz(S0, sigma, r, q, K, T, m, n):\n",
    "    dt = T / m\n",
    "    df = np.exp(-r * dt)\n",
    "\n",
    "    # Stock Price Paths\n",
    "    S = S0 * np.exp(np.cumsum((r - q - 0.5 * sigma ** 2) * dt + sigma * np.sqrt(dt) * np.random.standard_normal((m+1, n)), axis=0))\n",
    "    S[0] = S0\n",
    "\n",
    "    # Inner Values\n",
    "    h = np.maximum(K - S, 0)\n",
    "\n",
    "    # Present Value Vector (Initialization)\n",
    "    V = h[-1]\n",
    "\n",
    "    # American Option Valuation by Backwards Induction\n",
    "    for t in range(m - 1, 0, -1):\n",
    "        rg = np.polyfit(S[t], V * df, 5)\n",
    "        C  = np.polyval(rg, S[t])  # continuation values\n",
    "        V  = np.where(h[t] > C, h[t], V * df)\n",
    "\n",
    "    V0 = df * np.sum(V) / I  # LSM estimator\n",
    "\n",
    "    return V0"
   ]
  },
  {
   "cell_type": "code",
   "execution_count": 46,
   "id": "5f27a388",
   "metadata": {
    "tags": []
   },
   "outputs": [
    {
     "data": {
      "text/plain": [
       "5.600780234465555"
      ]
     },
     "execution_count": 46,
     "metadata": {},
     "output_type": "execute_result"
    }
   ],
   "source": [
    "I = 1000\n",
    "longstaff_schwartz(S0, sigma, r, q, K, T, 500, 1000)"
   ]
  },
  {
   "cell_type": "code",
   "execution_count": null,
   "id": "245583c0-0392-452f-80e8-a078b4e93647",
   "metadata": {},
   "outputs": [],
   "source": []
  }
 ],
 "metadata": {
  "kernelspec": {
   "display_name": "Python 3 (ipykernel)",
   "language": "python",
   "name": "python3"
  },
  "language_info": {
   "codemirror_mode": {
    "name": "ipython",
    "version": 3
   },
   "file_extension": ".py",
   "mimetype": "text/x-python",
   "name": "python",
   "nbconvert_exporter": "python",
   "pygments_lexer": "ipython3",
   "version": "3.11.4"
  }
 },
 "nbformat": 4,
 "nbformat_minor": 5
}
